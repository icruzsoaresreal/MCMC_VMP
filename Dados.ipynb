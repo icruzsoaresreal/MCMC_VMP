{
 "cells": [
  {
   "cell_type": "code",
   "execution_count": 345,
   "metadata": {},
   "outputs": [],
   "source": [
    "import numpy as np\n",
    "import pandas as pd"
   ]
  },
  {
   "cell_type": "code",
   "execution_count": 346,
   "metadata": {},
   "outputs": [],
   "source": [
    "np.random.seed(0)"
   ]
  },
  {
   "cell_type": "code",
   "execution_count": 347,
   "metadata": {},
   "outputs": [
    {
     "name": "stdout",
     "output_type": "stream",
     "text": [
      "Número de observações: 1000\n"
     ]
    }
   ],
   "source": [
    "N = 1000\n",
    "\n",
    "print(f'Número de observações: {N}')"
   ]
  },
  {
   "cell_type": "code",
   "execution_count": 348,
   "metadata": {},
   "outputs": [
    {
     "name": "stdout",
     "output_type": "stream",
     "text": [
      "Número de categorias latentes: 2\n"
     ]
    }
   ],
   "source": [
    "K = 2\n",
    "\n",
    "print(f'Número de categorias latentes: {K}')"
   ]
  },
  {
   "cell_type": "code",
   "execution_count": 349,
   "metadata": {},
   "outputs": [
    {
     "name": "stdout",
     "output_type": "stream",
     "text": [
      "Quantidade de observações por categoria:\n",
      "\n",
      "[502 498]\n"
     ]
    }
   ],
   "source": [
    "Z = np.random.multinomial(pvals = K*[1/K], n = N)\n",
    "\n",
    "print('Quantidade de observações por categoria:\\n')\n",
    "\n",
    "print(Z)"
   ]
  },
  {
   "cell_type": "code",
   "execution_count": 350,
   "metadata": {},
   "outputs": [
    {
     "name": "stdout",
     "output_type": "stream",
     "text": [
      "Variância dos dados: 1\n",
      "\n",
      "Médias de cada categoria latente:\n",
      "\n",
      "[-6.  6.]\n"
     ]
    }
   ],
   "source": [
    "sigma = 1\n",
    "\n",
    "mu = np.linspace(start = -3*sigma*K, stop = 3*sigma*K, num = K)\n",
    "\n",
    "print(f'Variância dos dados: {sigma}\\n')\n",
    "\n",
    "print('Médias de cada categoria latente:\\n')\n",
    "\n",
    "print(mu)"
   ]
  },
  {
   "cell_type": "code",
   "execution_count": 351,
   "metadata": {},
   "outputs": [
    {
     "name": "stdout",
     "output_type": "stream",
     "text": [
      "Dados Observados (UGMM Simples):\n",
      "\n",
      "[ 0.   -5.02 -3.76 ...  5.64  6.56  6.89]\n"
     ]
    }
   ],
   "source": [
    "UGMM_Simples = np.zeros(shape = 1)\n",
    "\n",
    "for k in range(K):\n",
    "\n",
    "    X = np.random.normal(loc = mu[k], size = Z[k])\n",
    "\n",
    "    UGMM_Simples = np.hstack((UGMM_Simples, X))\n",
    "\n",
    "print('Dados Observados (UGMM Simples):\\n')\n",
    "\n",
    "print(np.round(UGMM_Simples, 2))"
   ]
  },
  {
   "cell_type": "code",
   "execution_count": 352,
   "metadata": {},
   "outputs": [
    {
     "name": "stdout",
     "output_type": "stream",
     "text": [
      "Probabilidades de cada categoria latente:\n",
      "\n",
      "[0.65 0.35]\n"
     ]
    }
   ],
   "source": [
    "p = np.random.dirichlet(alpha = K*[1/K])\n",
    "\n",
    "print('Probabilidades de cada categoria latente:\\n')\n",
    "\n",
    "print(np.round(p, 2))"
   ]
  },
  {
   "cell_type": "code",
   "execution_count": 353,
   "metadata": {},
   "outputs": [
    {
     "name": "stdout",
     "output_type": "stream",
     "text": [
      "Dados Observados (UMMM):\n",
      "\n",
      "[0. 1. 1. ... 0. 0. 0.]\n"
     ]
    }
   ],
   "source": [
    "UMMM = np.zeros(shape = 1)\n",
    "\n",
    "for k in range(K):\n",
    "\n",
    "    X = np.random.binomial(n = 1, p = p[k], size = Z[k])\n",
    "\n",
    "    UMMM = np.hstack((UMMM, X))\n",
    "\n",
    "print('Dados Observados (UMMM):\\n')\n",
    "\n",
    "print(UMMM)"
   ]
  },
  {
   "cell_type": "code",
   "execution_count": null,
   "metadata": {},
   "outputs": [
    {
     "name": "stdout",
     "output_type": "stream",
     "text": [
      "Frequência de cada categoria latente:\n",
      "\n",
      "[1. 6.]\n"
     ]
    }
   ],
   "source": [
    "f = np.linspace(start = 1, stop = 3*K, num = K)\n",
    "\n",
    "print('Frequência de cada categoria latente:\\n')\n",
    "\n",
    "print(np.round(f, 2))"
   ]
  },
  {
   "cell_type": "code",
   "execution_count": 355,
   "metadata": {},
   "outputs": [
    {
     "name": "stdout",
     "output_type": "stream",
     "text": [
      "Dados Observados (UPMM):\n",
      "\n",
      "[0. 1. 3. ... 4. 4. 4.]\n"
     ]
    }
   ],
   "source": [
    "UPMM = np.zeros(shape = 1)\n",
    "\n",
    "for k in range(K):\n",
    "\n",
    "    X = np.random.poisson(lam = f[k], size = Z[k])\n",
    "\n",
    "    UPMM = np.hstack((UPMM, X))\n",
    "\n",
    "print('Dados Observados (UPMM):\\n')\n",
    "\n",
    "print(UPMM)"
   ]
  },
  {
   "cell_type": "code",
   "execution_count": 356,
   "metadata": {},
   "outputs": [],
   "source": [
    "pd.DataFrame(UGMM_Simples, columns = ['x_n']).to_csv('Dados\\\\UGMM_Simples.csv', index =  False)\n",
    "\n",
    "pd.DataFrame(UMMM, columns = ['x_n']).to_csv('Dados\\\\UMMM.csv', index =  False)\n",
    "\n",
    "pd.DataFrame(UPMM, columns = ['x_n']).to_csv('Dados\\\\UPMM.csv', index =  False)"
   ]
  }
 ],
 "metadata": {
  "kernelspec": {
   "display_name": "MCMC_VMP",
   "language": "python",
   "name": "python3"
  },
  "language_info": {
   "codemirror_mode": {
    "name": "ipython",
    "version": 3
   },
   "file_extension": ".py",
   "mimetype": "text/x-python",
   "name": "python",
   "nbconvert_exporter": "python",
   "pygments_lexer": "ipython3",
   "version": "3.12.4"
  }
 },
 "nbformat": 4,
 "nbformat_minor": 2
}
