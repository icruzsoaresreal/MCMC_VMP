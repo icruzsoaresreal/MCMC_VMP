{
 "cells": [
  {
   "cell_type": "code",
   "execution_count": 1,
   "metadata": {},
   "outputs": [
    {
     "name": "stdout",
     "output_type": "stream",
     "text": [
      "WARNING:tensorflow:From c:\\Users\\icruz\\AppData\\Local\\anaconda3\\envs\\MCMC_VMP\\Lib\\site-packages\\tf_keras\\src\\losses.py:2976: The name tf.losses.sparse_softmax_cross_entropy is deprecated. Please use tf.compat.v1.losses.sparse_softmax_cross_entropy instead.\n",
      "\n",
      "WARNING:tensorflow:From c:\\Users\\icruz\\AppData\\Local\\anaconda3\\envs\\MCMC_VMP\\Lib\\site-packages\\tensorflow_probability\\python\\internal\\backend\\numpy\\_utils.py:48: The name tf.logging.TaskLevelStatusMessage is deprecated. Please use tf.compat.v1.logging.TaskLevelStatusMessage instead.\n",
      "\n",
      "WARNING:tensorflow:From c:\\Users\\icruz\\AppData\\Local\\anaconda3\\envs\\MCMC_VMP\\Lib\\site-packages\\tensorflow_probability\\python\\internal\\backend\\numpy\\_utils.py:48: The name tf.control_flow_v2_enabled is deprecated. Please use tf.compat.v1.control_flow_v2_enabled instead.\n",
      "\n"
     ]
    }
   ],
   "source": [
    "import pandas as pd\n",
    "import numpy as np\n",
    "import matplotlib.pyplot as plt\n",
    "import seaborn as sns\n",
    "from MCMC_VMP import MCMC_VMP"
   ]
  },
  {
   "cell_type": "code",
   "execution_count": 2,
   "metadata": {},
   "outputs": [
    {
     "data": {
      "text/html": [
       "<div>\n",
       "<style scoped>\n",
       "    .dataframe tbody tr th:only-of-type {\n",
       "        vertical-align: middle;\n",
       "    }\n",
       "\n",
       "    .dataframe tbody tr th {\n",
       "        vertical-align: top;\n",
       "    }\n",
       "\n",
       "    .dataframe thead th {\n",
       "        text-align: right;\n",
       "    }\n",
       "</style>\n",
       "<table border=\"1\" class=\"dataframe\">\n",
       "  <thead>\n",
       "    <tr style=\"text-align: right;\">\n",
       "      <th></th>\n",
       "      <th>x_n</th>\n",
       "    </tr>\n",
       "  </thead>\n",
       "  <tbody>\n",
       "    <tr>\n",
       "      <th>0</th>\n",
       "      <td>0.000000</td>\n",
       "    </tr>\n",
       "    <tr>\n",
       "      <th>1</th>\n",
       "      <td>-5.021262</td>\n",
       "    </tr>\n",
       "    <tr>\n",
       "      <th>2</th>\n",
       "      <td>-3.759107</td>\n",
       "    </tr>\n",
       "    <tr>\n",
       "      <th>3</th>\n",
       "      <td>-4.132442</td>\n",
       "    </tr>\n",
       "    <tr>\n",
       "      <th>4</th>\n",
       "      <td>-6.977278</td>\n",
       "    </tr>\n",
       "  </tbody>\n",
       "</table>\n",
       "</div>"
      ],
      "text/plain": [
       "        x_n\n",
       "0  0.000000\n",
       "1 -5.021262\n",
       "2 -3.759107\n",
       "3 -4.132442\n",
       "4 -6.977278"
      ]
     },
     "execution_count": 2,
     "metadata": {},
     "output_type": "execute_result"
    }
   ],
   "source": [
    "Dados = pd.read_csv('Dados\\\\UGMM_Simples.csv')\n",
    "\n",
    "Dados.head()"
   ]
  },
  {
   "cell_type": "code",
   "execution_count": 3,
   "metadata": {},
   "outputs": [
    {
     "data": {
      "image/png": "[encoded data removed]",
      "text/plain": [
       "<Figure size 1500x500 with 1 Axes>"
      ]
     },
     "metadata": {},
     "output_type": "display_data"
    }
   ],
   "source": [
    "plt.figure(figsize = (15, 5))\n",
    "\n",
    "Grafico = sns.histplot(data = Dados, bins = 30, stat = 'density')\n",
    "\n",
    "Grafico.get_legend().remove()\n",
    "\n",
    "Grafico.spines['top'].set_visible(False)\n",
    "\n",
    "Grafico.spines['right'].set_visible(False)\n",
    "\n",
    "plt.ylabel('Densidade')\n",
    "\n",
    "plt.show()"
   ]
  },
  {
   "cell_type": "code",
   "execution_count": 4,
   "metadata": {},
   "outputs": [
    {
     "name": "stderr",
     "output_type": "stream",
     "text": [
      "c:\\Users\\icruz\\OneDrive\\Área de Trabalho\\MCMC_VMP\\MCMC_VMP.py:82: RuntimeWarning: overflow encountered in exp\n",
      "  delta = np.exp(delta)\n",
      "c:\\Users\\icruz\\OneDrive\\Área de Trabalho\\MCMC_VMP\\MCMC_VMP.py:106: RuntimeWarning: overflow encountered in exp\n",
      "  q_eta = np.exp(q_eta + eta[0]**2/(4*eta[1]) + 1/2*np.log(-2*eta[1]))\n"
     ]
    }
   ],
   "source": [
    "Modelo = MCMC_VMP(\n",
    "\n",
    "    Dados = np.array(Dados).reshape(-1), Categorias = 2, \n",
    "    \n",
    "    nu_0 = 0, chi_0 = np.array([0, 1e-6])\n",
    "\n",
    ")\n",
    "\n",
    "Modelo.estima_parametros()"
   ]
  },
  {
   "cell_type": "code",
   "execution_count": 5,
   "metadata": {},
   "outputs": [
    {
     "data": {
      "text/plain": [
       "array([[ 0., -5.],\n",
       "       [ 0., -5.]])"
      ]
     },
     "execution_count": 5,
     "metadata": {},
     "output_type": "execute_result"
    }
   ],
   "source": [
    "Modelo.eta"
   ]
  }
 ],
 "metadata": {
  "kernelspec": {
   "display_name": "MCMC_VMP",
   "language": "python",
   "name": "python3"
  },
  "language_info": {
   "codemirror_mode": {
    "name": "ipython",
    "version": 3
   },
   "file_extension": ".py",
   "mimetype": "text/x-python",
   "name": "python",
   "nbconvert_exporter": "python",
   "pygments_lexer": "ipython3",
   "version": "3.12.4"
  }
 },
 "nbformat": 4,
 "nbformat_minor": 2
}
